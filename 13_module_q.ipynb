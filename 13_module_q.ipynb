{
 "cells": [
  {
   "cell_type": "code",
   "execution_count": 1,
   "metadata": {
    "deletable": false,
    "editable": false,
    "tags": [
     "skip-execution"
    ]
   },
   "outputs": [],
   "source": [
    "# Initialize Otter\n",
    "import otter\n",
    "\n",
    "grader = otter.Notebook(\"13_module_q.ipynb\")"
   ]
  },
  {
   "cell_type": "code",
   "execution_count": null,
   "metadata": {},
   "outputs": [],
   "source": [
    "# Initialize assignment\n",
    "from pykubegrader.initialize import initialize_assignment\n",
    "\n",
    "initialize_assignment(\"13_module_q\")"
   ]
  },
  {
   "cell_type": "code",
   "execution_count": null,
   "metadata": {},
   "outputs": [],
   "source": [
    "from pykubegrader.telemetry import ensure_responses\n",
    "\n",
    "responses = ensure_responses()\n",
    "assert responses[\"seed\"] is not None"
   ]
  },
  {
   "cell_type": "code",
   "execution_count": null,
   "metadata": {},
   "outputs": [],
   "source": [
    "import requests\n",
    "\n",
    "url = \"https://engr-131-api.eastus.cloudapp.azure.com/\"\n",
    "params = {\"jhub_user\": responses[\"jhub_user\"]}\n",
    "\n",
    "response = requests.get(url, params=params)\n",
    "\n",
    "print(f\"status code: {response.status_code}\")\n",
    "\n",
    "data = response.json()\n",
    "for k, v in data.items():\n",
    "    print(f\"{k}: {v}\")"
   ]
  },
  {
   "cell_type": "markdown",
   "metadata": {
    "deletable": false,
    "editable": false
   },
   "source": [
    "# ❓ What is a Python Module?\n",
    "\n",
    "![](./assets/figures/avengers.webp)"
   ]
  },
  {
   "cell_type": "code",
   "execution_count": null,
   "metadata": {
    "tags": []
   },
   "outputs": [],
   "source": [
    "# Run this block of code by pressing Shift + Enter to display the question\n",
    "from questions._13_module_q import Question1\n",
    "\n",
    "Question1().show()"
   ]
  },
  {
   "cell_type": "code",
   "execution_count": null,
   "metadata": {},
   "outputs": [],
   "source": [
    "# Call to API to score question, then log score\n",
    "# POST req to /live-scorer\n",
    "# pass in the \"scoring submission\"\n",
    "# pass in **responses along with str value for question name\n",
    "# score value returned as\n",
    "# score_question(question_name: str, responses: dict) -> dict\n",
    "# dict returned is e.g. { max_points: 10, points_earned: 8 }\n",
    "# we could have response printed e.g. \"Valid responses submitted successfully\""
   ]
  },
  {
   "cell_type": "code",
   "execution_count": null,
   "metadata": {
    "tags": []
   },
   "outputs": [],
   "source": [
    "# Run this block of code by pressing Shift + Enter to display the question\n",
    "from questions._13_module_q import Question2\n",
    "\n",
    "Question2().show()"
   ]
  },
  {
   "cell_type": "code",
   "execution_count": null,
   "metadata": {
    "tags": []
   },
   "outputs": [],
   "source": [
    "# Run this block of code by pressing Shift + Enter to display the question\n",
    "from questions._13_module_q import Question3\n",
    "\n",
    "Question3().show()"
   ]
  },
  {
   "cell_type": "markdown",
   "metadata": {
    "deletable": false,
    "editable": false
   },
   "source": [
    "# 🦸‍♂️ Avengers Mission: Python Modules!\n",
    "\n",
    "The Avengers need your coding skills to prepare for their next mission. Your task is to help them with three important calculations using Python’s **`math` module**.\n",
    "\n",
    "### Mission Objectives\n",
    "1. **Thor's Task**: Calculate the area of Mjolnir's circular base. The radius is 10 units. Use the formula for the area of a circle:  \n",
    "   \n",
    "   $\\text{Area} = \\pi \\times r^2$\n",
    "   \n",
    "   Use the constant `math.pi` and store the result in a variable named `hammer_area`.\n",
    "\n",
    "2. **Iron Man's Task**: Compute the cosine of 45 degrees to optimize his repulsor targeting system.  \n",
    "   - First, convert 45 degrees to radians using: \n",
    "    \n",
    "     $\\text{Radians} = \\text{Degrees} \\times \\frac{\\pi}{180}$\n",
    "  \n",
    "     Use the function `math.radians` to handle this conversion.  \n",
    "   - Then, calculate the cosine using `math.cos`.  \n",
    "   Store the result in a variable named `iron_cosine`.\n",
    "\n",
    "3. **Captain America's Task**: Determine the least common multiple (LCM) of 12 and 18 to synchronize the team's communication devices.  \n",
    "   - First, find the greatest common divisor (GCD) using `math.gcd`.  \n",
    "   - Then, calculate the LCM using the formula:  \n",
    "   \n",
    "     $\\text{LCM}(a, b) = \\frac{|a \\times b|}{\\text{GCD}(a, b)}$\n",
    "\n",
    "   Store the result in a variable named `cap_lcm`.\n",
    "\n",
    "### Requirements\n",
    "- Write a Python program to perform these calculations.\n",
    "- Use the **`math` module** to simplify your work.\n",
    "- Assign the results to the variables `hammer_area`, `iron_cosine`, and `cap_lcm`.\n",
    "- Print the results at the end of your program so the Avengers can see them.\n",
    "\n",
    "Now, go save the world with your coding skills! 🌟\n"
   ]
  },
  {
   "cell_type": "code",
   "execution_count": null,
   "metadata": {
    "tags": [
     "skip-execution"
    ]
   },
   "outputs": [],
   "source": [
    "# Add your import statement here\n",
    "import math\n",
    "\n",
    "\n",
    "def avengers_assemble():\n",
    "    # Thor's hammer base area (circle area formula: πr²)\n",
    "    hammer_area = math.pi * (10**2)\n",
    "\n",
    "    # Iron Man's cosine calculation (convert degrees to radians first)\n",
    "    iron_cosine = math.cos(math.radians(45))\n",
    "\n",
    "    # Captain America's LCM calculation\n",
    "    # Find the LCM of 12 and 18\n",
    "    a = 12\n",
    "    b = 18\n",
    "    cap_lcm = abs(a * b) // math.gcd(a, b)\n",
    "\n",
    "    return hammer_area, iron_cosine, cap_lcm\n",
    "\n",
    "\n",
    "# Do not modify the code below this line\n",
    "# Print results\n",
    "hammer_area, iron_cosine, cap_lcm = avengers_assemble()\n",
    "\n",
    "\n",
    "print(f\"Mjolnir's base area: {hammer_area}\")\n",
    "print(f\"Iron Man's cosine of 45 degrees: {iron_cosine}\")\n",
    "print(f\"Captain America's LCM: {cap_lcm}\")"
   ]
  },
  {
   "cell_type": "code",
   "execution_count": null,
   "metadata": {
    "deletable": false,
    "editable": false,
    "tags": [
     "skip-execution"
    ]
   },
   "outputs": [],
   "source": [
    "grader.check(\"avengers-mission-modules\")"
   ]
  },
  {
   "cell_type": "code",
   "execution_count": null,
   "metadata": {},
   "outputs": [],
   "source": [
    "# some kind of score value is now accessible"
   ]
  },
  {
   "cell_type": "code",
   "execution_count": 13,
   "metadata": {},
   "outputs": [],
   "source": [
    "score = 0"
   ]
  },
  {
   "cell_type": "code",
   "execution_count": null,
   "metadata": {},
   "outputs": [],
   "source": [
    "assert \"foo\" == \"bar\"\n",
    "score += 1"
   ]
  },
  {
   "cell_type": "code",
   "execution_count": null,
   "metadata": {},
   "outputs": [],
   "source": [
    "print(score)"
   ]
  },
  {
   "cell_type": "code",
   "execution_count": null,
   "metadata": {},
   "outputs": [],
   "source": [
    "# To add:\n",
    "# update_responses() with response value for each question\n",
    "# log_variable() with score vs. max score for each question"
   ]
  },
  {
   "cell_type": "markdown",
   "metadata": {
    "deletable": false,
    "editable": false
   },
   "source": [
    " "
   ]
  }
 ],
 "metadata": {
  "kernelspec": {
   "display_name": ".venv",
   "language": "python",
   "name": "python3"
  },
  "language_info": {
   "codemirror_mode": {
    "name": "ipython",
    "version": 3
   },
   "file_extension": ".py",
   "mimetype": "text/x-python",
   "name": "python",
   "nbconvert_exporter": "python",
   "pygments_lexer": "ipython3",
   "version": "3.13.1"
  },
  "otter": {
   "OK_FORMAT": true,
   "tests": {
    "avengers-mission-modules": {
     "name": "avengers-mission-modules",
     "points": null,
     "suites": [
      {
       "cases": [
        {
         "code": ">>> hammer_area, _, _ = avengers_assemble()\n>>> assert math.isclose(hammer_area, 314.159, rel_tol=0.001), \"Thor's hammer area calculation is incorrect.\"\n",
         "failure_message": "Thor's hammer area calculation is incorrect.",
         "hidden": false,
         "locked": false,
         "points": 1,
         "success_message": "Correctly calculated Thor's hammer area."
        },
        {
         "code": ">>> _, iron_cosine, _ = avengers_assemble()\n>>> assert math.isclose(iron_cosine, 0.707, rel_tol=0.001), \"Iron Man's cosine calculation is incorrect.\"\n",
         "failure_message": "Iron Man's cosine calculation is incorrect.",
         "hidden": false,
         "locked": false,
         "points": 1,
         "success_message": "Correctly calculated Iron Man's cosine of 45 degrees."
        },
        {
         "code": ">>> _, _, cap_lcm = avengers_assemble()\n>>> assert cap_lcm == 36, \"Captain America's LCM calculation is incorrect.\"\n",
         "failure_message": "Captain America's LCM calculation is incorrect.",
         "hidden": false,
         "locked": false,
         "points": 1,
         "success_message": "Correctly calculated Captain America's LCM."
        }
       ],
       "scored": true,
       "setup": "",
       "teardown": "",
       "type": "doctest"
      }
     ]
    }
   }
  }
 },
 "nbformat": 4,
 "nbformat_minor": 4
}
